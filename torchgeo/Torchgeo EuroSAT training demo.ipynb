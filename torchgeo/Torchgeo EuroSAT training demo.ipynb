{
 "cells": [
  {
   "cell_type": "code",
   "execution_count": 5,
   "id": "63f7111e",
   "metadata": {},
   "outputs": [],
   "source": [
    "import os\n",
    "import tempfile\n",
    "\n",
    "from torchgeo.datasets import EuroSAT\n",
    "from torchgeo.datamodules import EuroSATDataModule\n",
    "import numpy as np\n",
    "import pytorch_lightning as pl\n",
    "from pytorch_lightning.callbacks import EarlyStopping, ModelCheckpoint\n",
    "from pytorch_lightning.loggers import CSVLogger\n",
    "from torchgeo.trainers import ClassificationTask\n",
    "from tqdm import tqdm"
   ]
  },
  {
   "cell_type": "code",
   "execution_count": 2,
   "id": "d0674029",
   "metadata": {},
   "outputs": [],
   "source": [
    "dataset = EuroSAT(root=\"data/eurosat\", download=True)"
   ]
  },
  {
   "cell_type": "code",
   "execution_count": 3,
   "id": "dafcb078",
   "metadata": {},
   "outputs": [
    {
     "data": {
      "text/plain": [
       "{'all': ('B01',\n",
       "  'B02',\n",
       "  'B03',\n",
       "  'B04',\n",
       "  'B05',\n",
       "  'B06',\n",
       "  'B07',\n",
       "  'B08',\n",
       "  'B08A',\n",
       "  'B09',\n",
       "  'B10',\n",
       "  'B11',\n",
       "  'B12'),\n",
       " 'rgb': ('B04', 'B03', 'B02')}"
      ]
     },
     "execution_count": 3,
     "metadata": {},
     "output_type": "execute_result"
    }
   ],
   "source": [
    "EuroSAT.BAND_SETS"
   ]
  },
  {
   "cell_type": "code",
   "execution_count": 4,
   "id": "468cc83d",
   "metadata": {},
   "outputs": [],
   "source": [
    "datamodule = EuroSATDataModule(\n",
    "    root_dir=\"data/eurosat\", seed=1337, batch_size=64, num_workers=6, bands=EuroSAT.BAND_SETS[\"all\"]\n",
    ")\n",
    "\n",
    "task = ClassificationTask(\n",
    "    classification_model=\"resnet18\",\n",
    "    weights=\"imagenet\",\n",
    "    in_channels=13,\n",
    "    num_classes=10,\n",
    "    loss=\"ce\",\n",
    "    pretrained=True,\n",
    "    learning_rate=0.001,\n",
    "    learning_rate_schedule_patience=5,\n",
    ")"
   ]
  },
  {
   "cell_type": "code",
   "execution_count": 6,
   "id": "911e2cf5",
   "metadata": {},
   "outputs": [],
   "source": [
    "experiment_dir = os.path.join(tempfile.gettempdir(), \"eurosat_results\")\n",
    "\n",
    "checkpoint_callback = ModelCheckpoint(\n",
    "    monitor=\"val_loss\", dirpath=experiment_dir, save_top_k=1, save_last=True\n",
    ")\n",
    "early_stopping_callback = EarlyStopping(monitor=\"val_loss\", min_delta=0.00, patience=10)\n",
    "\n",
    "csv_logger = CSVLogger(save_dir=experiment_dir, name=\"logs\")"
   ]
  },
  {
   "cell_type": "code",
   "execution_count": 7,
   "id": "ab31e044",
   "metadata": {},
   "outputs": [
    {
     "name": "stderr",
     "output_type": "stream",
     "text": [
      "GPU available: True (cuda), used: True\n",
      "TPU available: False, using: 0 TPU cores\n",
      "IPU available: False, using: 0 IPUs\n",
      "HPU available: False, using: 0 HPUs\n"
     ]
    }
   ],
   "source": [
    "trainer = pl.Trainer(\n",
    "    callbacks=[checkpoint_callback, early_stopping_callback],\n",
    "    logger=[csv_logger],\n",
    "    default_root_dir=experiment_dir,\n",
    "    min_epochs=1,\n",
    "    max_epochs=10,\n",
    "    accelerator=\"gpu\",\n",
    "    devices=[0]\n",
    ")"
   ]
  },
  {
   "cell_type": "code",
   "execution_count": 8,
   "id": "61973d73",
   "metadata": {},
   "outputs": [
    {
     "name": "stderr",
     "output_type": "stream",
     "text": [
      "/opt/conda/envs/torchgeo/lib/python3.10/site-packages/pytorch_lightning/callbacks/model_checkpoint.py:616: UserWarning: Checkpoint directory /tmp/eurosat_results exists and is not empty.\n",
      "  rank_zero_warn(f\"Checkpoint directory {dirpath} exists and is not empty.\")\n",
      "LOCAL_RANK: 0 - CUDA_VISIBLE_DEVICES: [0,1,2,3]\n",
      "\n",
      "  | Name          | Type             | Params\n",
      "---------------------------------------------------\n",
      "0 | model         | ResNet           | 11.2 M\n",
      "1 | loss          | CrossEntropyLoss | 0     \n",
      "2 | train_metrics | MetricCollection | 0     \n",
      "3 | val_metrics   | MetricCollection | 0     \n",
      "4 | test_metrics  | MetricCollection | 0     \n",
      "---------------------------------------------------\n",
      "11.2 M    Trainable params\n",
      "0         Non-trainable params\n",
      "11.2 M    Total params\n",
      "44.852    Total estimated model params size (MB)\n"
     ]
    },
    {
     "data": {
      "application/vnd.jupyter.widget-view+json": {
       "model_id": "581efa2b57f448969939ddb1e82e1949",
       "version_major": 2,
       "version_minor": 0
      },
      "text/plain": [
       "Sanity Checking: 0it [00:00, ?it/s]"
      ]
     },
     "metadata": {},
     "output_type": "display_data"
    },
    {
     "data": {
      "application/vnd.jupyter.widget-view+json": {
       "model_id": "bcee8a2bf5404fd6b88462614181310b",
       "version_major": 2,
       "version_minor": 0
      },
      "text/plain": [
       "Training: 0it [00:00, ?it/s]"
      ]
     },
     "metadata": {},
     "output_type": "display_data"
    },
    {
     "name": "stderr",
     "output_type": "stream",
     "text": [
      "/opt/conda/envs/torchgeo/lib/python3.10/site-packages/pytorch_lightning/trainer/trainer.py:653: UserWarning: Detected KeyboardInterrupt, attempting graceful shutdown...\n",
      "  rank_zero_warn(\"Detected KeyboardInterrupt, attempting graceful shutdown...\")\n"
     ]
    },
    {
     "data": {
      "image/png": "[encoded data removed]",
      "text/plain": [
       "<Figure size 400x400 with 1 Axes>"
      ]
     },
     "metadata": {},
     "output_type": "display_data"
    },
    {
     "data": {
      "image/png": "[encoded data removed]",
      "text/plain": [
       "<Figure size 400x400 with 1 Axes>"
      ]
     },
     "metadata": {},
     "output_type": "display_data"
    }
   ],
   "source": [
    "trainer.fit(model=task, datamodule=datamodule)"
   ]
  },
  {
   "cell_type": "code",
   "execution_count": null,
   "id": "709b2c30",
   "metadata": {},
   "outputs": [],
   "source": []
  }
 ],
 "metadata": {
  "kernelspec": {
   "display_name": "torchgeo",
   "language": "python",
   "name": "torchgeo"
  },
  "language_info": {
   "codemirror_mode": {
    "name": "ipython",
    "version": 3
   },
   "file_extension": ".py",
   "mimetype": "text/x-python",
   "name": "python",
   "nbconvert_exporter": "python",
   "pygments_lexer": "ipython3",
   "version": "3.10.6"
  }
 },
 "nbformat": 4,
 "nbformat_minor": 5
}
